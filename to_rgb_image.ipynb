{
 "cells": [
  {
   "cell_type": "code",
   "execution_count": 6,
   "metadata": {},
   "outputs": [
    {
     "ename": "ModuleNotFoundError",
     "evalue": "No module named 'Image'",
     "output_type": "error",
     "traceback": [
      "\u001b[0;31m---------------------------------------------------------------------------\u001b[0m",
      "\u001b[0;31mModuleNotFoundError\u001b[0m                       Traceback (most recent call last)",
      "\u001b[0;32m<ipython-input-6-a73c4ff6cc73>\u001b[0m in \u001b[0;36m<module>\u001b[0;34m\u001b[0m\n\u001b[0;32m----> 1\u001b[0;31m \u001b[0;32mimport\u001b[0m \u001b[0mImage\u001b[0m\u001b[0;34m\u001b[0m\u001b[0;34m\u001b[0m\u001b[0m\n\u001b[0m",
      "\u001b[0;31mModuleNotFoundError\u001b[0m: No module named 'Image'"
     ]
    }
   ],
   "source": [
    "import Image"
   ]
  },
  {
   "cell_type": "code",
   "execution_count": 120,
   "metadata": {},
   "outputs": [
    {
     "ename": "AttributeError",
     "evalue": "'TiffImageFile' object has no attribute 'shape'",
     "output_type": "error",
     "traceback": [
      "\u001b[0;31m---------------------------------------------------------------------------\u001b[0m",
      "\u001b[0;31mAttributeError\u001b[0m                            Traceback (most recent call last)",
      "\u001b[0;32m<ipython-input-120-53a67574bf6c>\u001b[0m in \u001b[0;36m<module>\u001b[0;34m\u001b[0m\n\u001b[1;32m      1\u001b[0m \u001b[0;31m# img = Image.open('data.tiff')\u001b[0m\u001b[0;34m\u001b[0m\u001b[0;34m\u001b[0m\u001b[0;34m\u001b[0m\u001b[0m\n\u001b[1;32m      2\u001b[0m \u001b[0mimg\u001b[0m \u001b[0;34m=\u001b[0m \u001b[0mImage\u001b[0m\u001b[0;34m.\u001b[0m\u001b[0mopen\u001b[0m\u001b[0;34m(\u001b[0m\u001b[0;34m'reference.tiff'\u001b[0m\u001b[0;34m)\u001b[0m\u001b[0;34m\u001b[0m\u001b[0;34m\u001b[0m\u001b[0m\n\u001b[0;32m----> 3\u001b[0;31m \u001b[0mimg\u001b[0m\u001b[0;34m.\u001b[0m\u001b[0mshape\u001b[0m\u001b[0;34m\u001b[0m\u001b[0;34m\u001b[0m\u001b[0m\n\u001b[0m",
      "\u001b[0;31mAttributeError\u001b[0m: 'TiffImageFile' object has no attribute 'shape'"
     ]
    }
   ],
   "source": [
    "# img = Image.open('data.tiff')\n",
    "img = Image.open('reference.tiff')"
   ]
  },
  {
   "cell_type": "code",
   "execution_count": 9,
   "metadata": {},
   "outputs": [],
   "source": [
    "img.show()"
   ]
  },
  {
   "cell_type": "code",
   "execution_count": 10,
   "metadata": {},
   "outputs": [],
   "source": [
    "import numpy as np\n",
    "from skimage.external.tifffile import imread"
   ]
  },
  {
   "cell_type": "code",
   "execution_count": 279,
   "metadata": {},
   "outputs": [],
   "source": [
    "himg = imread(\"data.tiff\")"
   ]
  },
  {
   "cell_type": "code",
   "execution_count": 280,
   "metadata": {},
   "outputs": [
    {
     "data": {
      "text/plain": [
       "(900, 1000, 61)"
      ]
     },
     "execution_count": 280,
     "metadata": {},
     "output_type": "execute_result"
    }
   ],
   "source": [
    "himg.shape"
   ]
  },
  {
   "cell_type": "code",
   "execution_count": 281,
   "metadata": {},
   "outputs": [],
   "source": [
    "himg = himg / 2**16"
   ]
  },
  {
   "cell_type": "code",
   "execution_count": 212,
   "metadata": {},
   "outputs": [],
   "source": [
    "cmf = np.loadtxt(\"CIE1931-2deg-XYZ.csv\",delimiter=\",\")"
   ]
  },
  {
   "cell_type": "code",
   "execution_count": 213,
   "metadata": {
    "scrolled": true
   },
   "outputs": [],
   "source": [
    "cmf = cmf[np.where(cmf[:,0] >= 400)]\n",
    "cmf = cmf[::2]"
   ]
  },
  {
   "cell_type": "code",
   "execution_count": 214,
   "metadata": {},
   "outputs": [
    {
     "data": {
      "text/plain": [
       "(44, 4)"
      ]
     },
     "execution_count": 214,
     "metadata": {},
     "output_type": "execute_result"
    }
   ],
   "source": [
    "cmf.shape"
   ]
  },
  {
   "cell_type": "code",
   "execution_count": 215,
   "metadata": {},
   "outputs": [],
   "source": [
    "nhimg = himg[:,:,:44]"
   ]
  },
  {
   "cell_type": "code",
   "execution_count": 235,
   "metadata": {
    "scrolled": true
   },
   "outputs": [
    {
     "name": "stdout",
     "output_type": "stream",
     "text": [
      "[[8.0381e-06]\n",
      " [4.9402e-05]\n",
      " [7.9463e-04]\n",
      " [2.5200e-03]\n",
      " [5.0425e-03]\n",
      " [6.5314e-03]\n",
      " [2.9934e-03]\n",
      " [1.6326e-03]\n",
      " [1.2086e-03]\n",
      " [1.5629e-03]\n",
      " [3.2179e-03]\n",
      " [6.2438e-03]\n",
      " [9.6562e-03]\n",
      " [1.2211e-02]\n",
      " [1.3466e-02]\n",
      " [1.4078e-02]\n",
      " [1.4304e-02]\n",
      " [1.3816e-02]\n",
      " [1.3504e-02]\n",
      " [1.3538e-02]\n",
      " [1.5654e-02]\n",
      " [2.3630e-02]\n",
      " [4.3653e-02]\n",
      " [2.2712e-02]\n",
      " [7.8853e-03]\n",
      " [4.9094e-03]\n",
      " [3.7102e-03]\n",
      " [2.7212e-03]\n",
      " [2.0964e-03]\n",
      " [1.5355e-03]\n",
      " [1.1735e-03]\n",
      " [7.9114e-04]\n",
      " [6.6069e-04]\n",
      " [2.4682e-04]\n",
      " [3.1246e-04]\n",
      " [1.4981e-04]\n",
      " [9.5595e-05]\n",
      " [0.0000e+00]\n",
      " [3.0264e-04]\n",
      " [0.0000e+00]\n",
      " [0.0000e+00]\n",
      " [0.0000e+00]\n",
      " [0.0000e+00]\n",
      " [0.0000e+00]]\n"
     ]
    }
   ],
   "source": [
    "sd_light_source = np.loadtxt(\"lamp_spectrum.csv\", skiprows=1,dtype=\"float\")\n",
    "sd_light_source = sd_light_source[np.where(sd_light_source[:,0] >= 400)]\n",
    "sd_light_source = sd_light_source[::20,1:2]\n",
    "sd_light_source = sd_light_source[:44]\n",
    "print(sd_light_source)"
   ]
  },
  {
   "cell_type": "code",
   "execution_count": 260,
   "metadata": {},
   "outputs": [
    {
     "name": "stdout",
     "output_type": "stream",
     "text": [
      "(44, 3)\n",
      "686.3250612373361\n"
     ]
    }
   ],
   "source": [
    "ncmf = cmf[:,1:]\n",
    "nmf_multi_ld = ncmf * sd_light_source\n",
    "print(nmf_multi_ld.shape)\n",
    "x = nmf_multi_ld[:,0]\n",
    "y = nmf_multi_ld[:,1]\n",
    "z = nmf_multi_ld[:,2]\n",
    "k = 100/np.sum(y)\n",
    "print(k)"
   ]
  },
  {
   "cell_type": "code",
   "execution_count": 251,
   "metadata": {},
   "outputs": [],
   "source": [
    "X = np.sum(x*nhimg, axis=2)\n",
    "Y = np.sum(y*nhimg,axis=2)\n",
    "Z = np.sum(z*nhimg, axis=2)"
   ]
  },
  {
   "cell_type": "code",
   "execution_count": 271,
   "metadata": {},
   "outputs": [
    {
     "data": {
      "text/plain": [
       "(900, 1000, 3)"
      ]
     },
     "execution_count": 271,
     "metadata": {},
     "output_type": "execute_result"
    }
   ],
   "source": [
    "XYZ = np.stack([X,Y,Z], 2)\n",
    "XYZ = XYZ * k\n",
    "XYZ.shape"
   ]
  },
  {
   "cell_type": "code",
   "execution_count": 272,
   "metadata": {},
   "outputs": [
    {
     "name": "stdout",
     "output_type": "stream",
     "text": [
      "[[ 0.41846571 -0.15866078 -0.08283493]\n",
      " [-0.09116896  0.25243144  0.01570752]\n",
      " [ 0.0009209  -0.00254981  0.17859891]]\n"
     ]
    }
   ],
   "source": [
    "# xyz_to_rgb = np.array([[0.41847, -0.15866, -0.082835],[-0.091169, 0.25243, 0.015708], [0.00092090, -0.0025498, 0.17860]] )\n",
    "rgb_to_xyz = np.array([[0.4900, 0.31, 0.2],[0.17697, 0.81240, 0.010630], [0, 0.01, 0.99]])\n",
    "rgb_to_xyz = 1/0.17697 * rgb_to_xyz\n",
    "xyz_to_rgb = np.linalg.inv(rgb_to_xyz)\n",
    "print(xyz_to_rgb)"
   ]
  },
  {
   "cell_type": "code",
   "execution_count": 273,
   "metadata": {},
   "outputs": [
    {
     "data": {
      "text/plain": [
       "(900, 1000, 3)"
      ]
     },
     "execution_count": 273,
     "metadata": {},
     "output_type": "execute_result"
    }
   ],
   "source": [
    "rgb_img =  np.dot(XYZ, xyz_to_rgb )\n",
    "rgb_img.shape"
   ]
  },
  {
   "cell_type": "code",
   "execution_count": 274,
   "metadata": {},
   "outputs": [
    {
     "name": "stdout",
     "output_type": "stream",
     "text": [
      "(900, 1000, 3)\n",
      "44.50695284630758\n",
      "-5.439640471637056\n"
     ]
    }
   ],
   "source": [
    "print(rgb_img.shape)\n",
    "print(np.max(rgb_img))\n",
    "print(np.min(rgb_img))"
   ]
  },
  {
   "cell_type": "code",
   "execution_count": 282,
   "metadata": {},
   "outputs": [
    {
     "name": "stdout",
     "output_type": "stream",
     "text": [
      "(900, 1000)\n"
     ]
    }
   ],
   "source": [
    "# xyz_to_r = np.array([0.41847, -0.15866, -0.082835])\n",
    "xyz_to_r = np.array([3.2406, -1.5372, -0.4986])\n",
    "r = np.dot(XYZ, xyz_to_r)\n",
    "print(r.shape)\n",
    "xyz_to_g = np.array([-0.9689, 1.8758, 0.0415])\n",
    "g = np.dot(XYZ, xyz_to_g)\n",
    "xyz_to_b = np.array([0.0557, -0.204, 1.0570])\n",
    "b = np.dot(XYZ, xyz_to_b)\n",
    "rgb_img2 = np.stack([r,g,b],axis=2)\n"
   ]
  },
  {
   "cell_type": "code",
   "execution_count": 283,
   "metadata": {},
   "outputs": [
    {
     "name": "stdout",
     "output_type": "stream",
     "text": [
      "(900, 1000, 3)\n",
      "232.9712086283906\n",
      "-5.660450856145034\n"
     ]
    }
   ],
   "source": [
    "print(rgb_img2.shape)\n",
    "print(np.max(rgb_img2))\n",
    "print(np.min(rgb_img2))\n",
    "# img =Image.fromarray(rgb_img)\n",
    "# img.save(\"made_rgb_img.png\")"
   ]
  },
  {
   "cell_type": "code",
   "execution_count": 285,
   "metadata": {},
   "outputs": [],
   "source": [
    "# rgb_img2*2**8\n",
    "# print(np.max(rgb_img2*2**8))\n",
    "# print(np.min(rgb_img2*2**8))\n",
    "img =Image.fromarray(np.uint8(rgb_img2))\n",
    "img.save(\"made_rgb_img.png\")"
   ]
  },
  {
   "cell_type": "code",
   "execution_count": null,
   "metadata": {},
   "outputs": [],
   "source": []
  }
 ],
 "metadata": {
  "kernelspec": {
   "display_name": "'Python Interactive'",
   "language": "python",
   "name": "6721eeef-2c55-4c9b-9c65-39917febb46e"
  },
  "language_info": {
   "codemirror_mode": {
    "name": "ipython",
    "version": 3
   },
   "file_extension": ".py",
   "mimetype": "text/x-python",
   "name": "python",
   "nbconvert_exporter": "python",
   "pygments_lexer": "ipython3",
   "version": "3.6.9"
  }
 },
 "nbformat": 4,
 "nbformat_minor": 2
}
